{
 "cells": [
  {
   "cell_type": "markdown",
   "metadata": {},
   "source": [
    "# GUI Interface Part 1\n",
    "Paula Montgomery | 24 March 2019\n",
    "\n"
   ]
  },
  {
   "cell_type": "markdown",
   "metadata": {},
   "source": [
    "### INTRODUCTION\n",
    "\n",
    "Tkinter is the standard Python interface to Tk, the graphical user interface (GUI) toolkit for Tcl/Tk.  Tcl is the Tool Command Language.  In other words, tkinter is a <u><b>t</b></u>ool<u><b>k</b></u>it to <u><b>inter</b></u>face with the system GUI. (McGrath, 2016)  To use tkinter first you must import it.  Next you must call the constructor Tk() to create the window object.  One convension is to call it root but in several examples it is window or master.  Then the window can be sized and graphical controls called widgets added.  At the end of the program, every tkinter program must call the root (window, master, or whatever you called it) object's mainloop() method to capture events (McGrath)."
   ]
  },
  {
   "cell_type": "code",
   "execution_count": 2,
   "metadata": {},
   "outputs": [],
   "source": [
    "#import all from the library tkinter\n",
    "from tkinter import *\n",
    "\n",
    "# Calls the constructor Tk() which is a window.  This can be called anything but most programmers call it root.\n",
    "root = Tk()\n",
    "# This is where you would add images, containers, widgets, etc.\n",
    "\n",
    "# Tells the program to run the root or what ever you named it\n",
    "root.mainloop()"
   ]
  },
  {
   "cell_type": "markdown",
   "metadata": {},
   "source": [
    "### DISCUSSION/EXAMPLES\n",
    "As was demonstrated above, there are three lines to the most basic program using tkinter.  The code below includes a title, label and interactive button.  Label and Button are classes imported from tkinter making the code short and simple.  Buttons allow programers to control user input.  "
   ]
  },
  {
   "cell_type": "code",
   "execution_count": 25,
   "metadata": {},
   "outputs": [],
   "source": [
    "#import all from the library tkinter\n",
    "from tkinter import *\n",
    "\n",
    "#This function demonstrates a command for a button.  Text is red on a gray background.\n",
    "# It is located below the button in row 3 and column 0.\n",
    "def responce():\n",
    "    Label(root, text = \"Don't touch that!\", fg ='red', bg = 'gray').grid(row=3, column=0)\n",
    "# Calls the constructor Tk() which is a window.\n",
    "root = Tk()\n",
    "root.geometry('200x100')\n",
    "# create a title for our root window\n",
    "root.title(\"GUI testing\")\n",
    "#changes the background to gray\n",
    "root.configure(bg='gray')\n",
    "#create a label with purple text on a a gray background and placing it in the upper left corner at \n",
    "#row 0 and column 0. The lable spans two columns.\n",
    "Label(root, text = 'Hello World!', fg='purple', bg = 'gray').grid(row=0, column=0, columnspan=2)\n",
    "#Buttons can be used to interact with users. This button has white letters on a black background.\n",
    "#It is located row 2 and column 0.\n",
    "Button(root, text = 'Click Me!', command=responce, fg ='white', bg='black').grid(row=2, column=0)\n",
    "\n",
    "# tells the program to run the variable root (or what ever you named it)\n",
    "root.mainloop()\n"
   ]
  },
  {
   "cell_type": "markdown",
   "metadata": {},
   "source": [
    "### SUMMARY\n",
    "Tkinter is a library that is standard with Python.  It is relatively easy to use and therefor very common with many helpful resources.  A GUI interface to a Python programs gives the user the familiar look and feel of a website.  Buttons allow for controlled user input and for actions such as quiting the program.  "
   ]
  },
  {
   "cell_type": "markdown",
   "metadata": {},
   "source": [
    "### Resources:\n",
    "- Python Docs tkinter -> https://docs.python.org/3.7/library/tkinter.html \n",
    "- Tinker GUI Application Development Book via WSU ebook \n",
    "- Introduction To GUI With Tkinter In Python -> https://www.datacamp.com/community/tutorials/gui-tkinter-python (Links to an external site.)Links to an external site.\n",
    "- Python 3 - GUI Programming (Tkinter) -> https://www.tutorialspoint.com/python3/python_gui_programming.htm \n",
    "- The 6 Best Python GUI Frameworks for Developers -> \n",
    "https://blog.resellerclub.com/the-6-best-python-gui-frameworks-for-developers/ \n",
    "- Learn to Program 20: TkInter Tutorial -> https://www.youtube.com/watch?v=-tbWoZSi3LU\n",
    "- Learn Tkinter in 20 Minutes https://www.youtube.com/watch?v=_lSNIrR1nZU\n",
    "- McGrath, Mike (2016). <i>Python in easy steps</i>. UK: Easy Steps Limited"
   ]
  },
  {
   "cell_type": "code",
   "execution_count": null,
   "metadata": {},
   "outputs": [],
   "source": []
  }
 ],
 "metadata": {
  "kernelspec": {
   "display_name": "Python 3",
   "language": "python",
   "name": "python3"
  },
  "language_info": {
   "codemirror_mode": {
    "name": "ipython",
    "version": 3
   },
   "file_extension": ".py",
   "mimetype": "text/x-python",
   "name": "python",
   "nbconvert_exporter": "python",
   "pygments_lexer": "ipython3",
   "version": "3.7.1"
  }
 },
 "nbformat": 4,
 "nbformat_minor": 2
}
