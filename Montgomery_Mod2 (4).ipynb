{
 "cells": [
  {
   "cell_type": "markdown",
   "metadata": {},
   "source": [
    "Montgomery\n",
    "<strong>Module 2:</strong>\n",
    "### Adv Py Jupyter Notebook Discussion\n",
    "\n",
    "# Loops, Functions, & GitHub\n",
    "\n",
    "\n",
    "## INTRODUCTION\n",
    "Module two of the Advanced Python course covered the topics of loops, functions and GitHub.  Loops and functions were topics previously coved in Beginning Programming.  The review was helpful to reinforce prior learning and to expand on that learning.  GitHub is a new topic in Advanced Python.  It is a commonly used distributed version control system (DVCS). GitHub will be used for leture delivery throughout the term.\n"
   ]
  },
  {
   "cell_type": "markdown",
   "metadata": {},
   "source": [
    "## DISCUSSION/EXAMPLES\n",
    "\n",
    "### Loops\n",
    "Loops are useful when pieces of code need to be repeated.  <i>For</i> loops iterate over lists, tuples, and diction/aries.  <i>While</i> loops repeat a section of code while checking for a condition.  <i>For</i> loops are used when the number of iterations are known and <i>while</i> loops are used for an unknown but previously defined number of iterations.  To descide which loop to use, check against the following questions:\n",
    "\n",
    "- Do I need to perform an action <b>for</b> a certain number of times?\n",
    "- Do I need to perform an action <b>while</b> a condition is true and <b>if</b> that condition is no long true, do I need a differnt action performed?\n"
   ]
  },
  {
   "cell_type": "code",
   "execution_count": 1,
   "metadata": {},
   "outputs": [
    {
     "name": "stdout",
     "output_type": "stream",
     "text": [
      "['peanutbutter', 'jelly', 'bread']\n",
      "peanutbutter\n",
      "jelly\n",
      "bread\n",
      "['macaroni', 'cheese', 'spinach']\n",
      "macaroni\n",
      "cheese\n",
      "spinach\n",
      "['oatmeal', 'cherries', 'cinnamon']\n",
      "oatmeal\n",
      "cherries\n",
      "cinnamon\n"
     ]
    }
   ],
   "source": [
    "## nested for loop example\n",
    "\n",
    "ingredients=[['peanutbutter', 'jelly', 'bread'], ['macaroni', 'cheese', 'spinach'],['oatmeal', 'cherries', 'cinnamon']]\n",
    "for l in ingredients:\n",
    "    print(l)\n",
    "    for i in l:\n",
    "        print(i)"
   ]
  },
  {
   "cell_type": "code",
   "execution_count": 2,
   "metadata": {},
   "outputs": [
    {
     "name": "stdout",
     "output_type": "stream",
     "text": [
      "0\n",
      "1\n",
      "two\n",
      "3\n",
      "4\n"
     ]
    }
   ],
   "source": [
    "## while loop example\n",
    "\n",
    "c=0\n",
    "x=5\n",
    "while c < x:\n",
    "    if c == 2:\n",
    "        print('two')\n",
    "    else:  \n",
    "        print(c)\n",
    "    c+=1\n",
    "    "
   ]
  },
  {
   "cell_type": "markdown",
   "metadata": {},
   "source": [
    "### Functions\n",
    "Functions are a set of instructions that can easily be found and used in a program.  Because functions are reusable they make it easier to repeat actions throughout a program resulting in less work for the programmer and cleaner code.  User-defined functions (UDF) are functions created by a programmer and can be thought of as a custom function.  A UDF should have a single purpose.  UDFs are easily recognizable by the <strong>def</strong> key word followed by the fucnction's name, (), : and the remaning lines are indented.  Lambda is used to create anonymous un-named functions.  They can be calledback in line.  When using Lambda, be certain the ecnonmy of code does not sacrifice it's readability."
   ]
  },
  {
   "cell_type": "code",
   "execution_count": 7,
   "metadata": {},
   "outputs": [
    {
     "name": "stdout",
     "output_type": "stream",
     "text": [
      "SNOW DAY!!!  Hope you have plenty of hot chocolate!\n",
      "The temperature converted from farenheit to celcius =  -15.0\n"
     ]
    }
   ],
   "source": [
    "## function \n",
    "def snow_day(s):\n",
    "    if s > 6:\n",
    "        return print('SNOW DAY!!!  Hope you have plenty of hot chocolate!')\n",
    "    else:\n",
    "        return print(\"Get a move on!!! You've got to get to school!\")\n",
    "\n",
    "snow_day(7)\n",
    "\n",
    "## self-called lambda function\n",
    "\n",
    "temp = lambda f: (f-32)*5/9\n",
    "print('The temperature converted from farenheit to celcius = ', temp(5))"
   ]
  },
  {
   "cell_type": "markdown",
   "metadata": {},
   "source": [
    "### GitHub\n",
    "The final topic discussed was GitHub.  This DVCS allows for sharing of Jupyter Notebooks as well as other code.  It is a useful environment for sharing code and working with others on a single project.  It has the ability to manage versions as well as for branching a project so that work on a large project can be completed by many people.  When each module is finished, the branches can be rejoined to deliver an integrated project.  In this course, we will be using GitHub for our lectures.  It could also be useful for our two game assignments since the second game is a version of the first game."
   ]
  },
  {
   "cell_type": "markdown",
   "metadata": {},
   "source": [
    "## SUMMARY\n",
    "Module two included loops, functions, and GitHub.  Loops and functions were first introduced in Beginning Programming.  This review was useful for the students who took Beginning Programming prior to Fall 2018 term.  GitHub will be use for Advance Python lectures.  It is useful to learn since it is commonly used by professionals."
   ]
  },
  {
   "cell_type": "markdown",
   "metadata": {},
   "source": [
    "<b>Resources:</b>\n",
    "\n",
    "Adv Py lecture:  Loops, Functions, & GitHub, https://github.com/tdbowman/advProgramming/blob/master/notebooks/Loops%2C%20Functions%2C%20%26%20GitHub.ipynb\n",
    "\n",
    "Sharing Jupyter Notebooks using GitHub https://reproducible-science-curriculum.github.io/sharing-RR-Jupyter/01-sharing-github/\n",
    "\n",
    "Mueller, John Paul (2014) <i>Beginning Programming with Python for Dummies</i>."
   ]
  },
  {
   "cell_type": "code",
   "execution_count": null,
   "metadata": {},
   "outputs": [],
   "source": []
  }
 ],
 "metadata": {
  "kernelspec": {
   "display_name": "Python 3",
   "language": "python",
   "name": "python3"
  },
  "language_info": {
   "codemirror_mode": {
    "name": "ipython",
    "version": 3
   },
   "file_extension": ".py",
   "mimetype": "text/x-python",
   "name": "python",
   "nbconvert_exporter": "python",
   "pygments_lexer": "ipython3",
   "version": "3.7.1"
  }
 },
 "nbformat": 4,
 "nbformat_minor": 2
}
