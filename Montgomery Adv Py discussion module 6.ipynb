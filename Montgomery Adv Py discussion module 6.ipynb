{
 "cells": [
  {
   "cell_type": "markdown",
   "metadata": {},
   "source": [
    "# Module 6: OOP - Methods & Instances\n",
    "#### Montgomery 17 Feb 2019  "
   ]
  },
  {
   "cell_type": "markdown",
   "metadata": {},
   "source": [
    "### Introduction:  Instances and Methods\n",
    "\n",
    "My favorite explanation of instances and methods was from How to *Think Like a Computer Scientist:  Learning with Python 3, 15. Classes and Objects -- the Basics*.  The authors compared classes to a factory.  The class (or factory) is not the object, but contains the machinery to make the object.  Calling the constructor is like ordering an item from a factory.  As the object nears completion, its initialization method is executed to set the object to the factory default settings.  A method behaves like a function but it is invoked on a specific instance. Like a data attribute, methods are accessed using dot notation.\n",
    "\n",
    "Here is a simple example of instance, class, and static methods from realpython.com (https://realpython.com/instance-class-and-static-methods-demystified/):"
   ]
  },
  {
   "cell_type": "code",
   "execution_count": 1,
   "metadata": {},
   "outputs": [],
   "source": [
    "class MyClass:\n",
    "    def method(self):\n",
    "        return 'instance method called', self\n",
    "\n",
    "    @classmethod\n",
    "    def classmethod(cls):\n",
    "        return 'class method called', cls\n",
    "\n",
    "    @staticmethod\n",
    "    def staticmethod():\n",
    "        return 'static method called'"
   ]
  },
  {
   "cell_type": "markdown",
   "metadata": {},
   "source": [
    "### Instance Method\n",
    "\n",
    "Instance methods like the first method (def method) in the example above, are the most common and basic method used.  It is created similarly to a function except self is always the first parameter.  This method takes one parameter, but could accept more.  The self parameter allows instance methods to access attributes and other methos on the same object.  They can modify the object state as well as the class state through `self.__class__ attribute`.   The example below confirms the instance method has acess to the object instance via the self argument."
   ]
  },
  {
   "cell_type": "code",
   "execution_count": 5,
   "metadata": {},
   "outputs": [
    {
     "data": {
      "text/plain": [
       "('instance method called', <__main__.MyClass at 0x2461b5e65c0>)"
      ]
     },
     "execution_count": 5,
     "metadata": {},
     "output_type": "execute_result"
    }
   ],
   "source": [
    "# Create an instance of the class\n",
    "obj = MyClass()\n",
    "# call the instance method\n",
    "obj.method()\n",
    "# it can also be entered on one line\n",
    "MyClass.method(obj)"
   ]
  },
  {
   "cell_type": "markdown",
   "metadata": {},
   "source": [
    "### Class Method\n",
    "\n",
    "Going back to the first example, the second method is the class method.  It is marked with a `@classmethod` function decorator.  Another distinguising feature of the class method are their use of the `cls` parameter instead of `self`.  The `cls` parameter points to the class and not the object instance.  Unlike an instance method, it can not modify the object instance state.  Class methods can modify class state that applies across all instances of the class.\n",
    "\n",
    "The example below illustrates that the classmethod() only has access to the `<class MyClass>` object representing the class itself and not the object instance.\n"
   ]
  },
  {
   "cell_type": "code",
   "execution_count": 10,
   "metadata": {},
   "outputs": [
    {
     "data": {
      "text/plain": [
       "('class method called', __main__.MyClass)"
      ]
     },
     "execution_count": 10,
     "metadata": {},
     "output_type": "execute_result"
    }
   ],
   "source": [
    "obj.classmethod()"
   ]
  },
  {
   "cell_type": "markdown",
   "metadata": {},
   "source": [
    "### Static Method\n",
    "\n",
    "The third method `MyClass.staticmethod` is a static method.  Like the class method, it is marked with a function decorator and the name of the method `@staticmethod`.  The static method does not use self or cls as a first parameter therefore it cannot modify the object instance or the class itself.  It is independent from the rest of the class.  They are a useful way to organize the class namespace, to perform simple utility functions, and their independence can simplify testing.  An example of using a static method would be to perform a calculation that does not need to be saved to the instance or class such as determining area.\n",
    "\n",
    "Noticable in the example below, only the return statement is printed due to the access restrictions caused by not passing self or cls arguments when using dot syntax.  The static method cannot access the object instance or class state.  They work like a function be belong to the class's namespace.\n"
   ]
  },
  {
   "cell_type": "code",
   "execution_count": 8,
   "metadata": {},
   "outputs": [
    {
     "data": {
      "text/plain": [
       "'static method called'"
      ]
     },
     "execution_count": 8,
     "metadata": {},
     "output_type": "execute_result"
    }
   ],
   "source": [
    "obj.staticmethod()"
   ]
  },
  {
   "cell_type": "markdown",
   "metadata": {},
   "source": [
    "### Constructors\n",
    "`__init__`<br>\n",
    "`self`<br>\n",
    "`__str__`<br>\n",
    "\n",
    "A function that creates a new object instance is a constructor.  Every class automatically provises a constructor function named the same as the class.  They are called automatically once an object is created and are identifiable by the double underscores surrounding them.  Constructors allow methods to run without being specifically called.  The `__init__` method is the initializer method used to get attributes of the new object properly set up for use.\n"
   ]
  },
  {
   "cell_type": "markdown",
   "metadata": {},
   "source": [
    "### Summary\n",
    "\n",
    "This week's topic covered instances and methods.  \n",
    "\n",
    "__Instance methods:__  Basic no frills method.  It needs a class instance and can access the instance through self.<br>\n",
    "__Class method:__  They do not need a class instance and cannot access the instance self.  They have access to the class itself through cls. <br> \n",
    "__Static methods:__  They work like a regular function but belong to the class's namespace.  They do not have access to cls or self.<br>\n",
    "Static and class methods are preceeded by functional decorators\n",
    "\n",
    "### Readings\n",
    "\n",
    "- Wentworth, P., Elkner, J., Downey, A.B., & Meyers, C. (2012). Chatper 15: Classes and Objects - The Basics. *How to Think Like a Computer Scientist*. Available at: http://openbookproject.net/thinkcs/python/english3e/classes_and_objects_I.html (Links to an external site.)Links to an external site.\n",
    "- Wentworth, P., Elkner, J., Downey, A.B., & Meyers, C. (2012). Chatper 16: Classes and Objects - Digging a little deeper. *How to Think Like a Computer Scientist*. Available at: http://openbookproject.net/thinkcs/python/english3e/classes_and_objects_II.html (Links to an external site.)Links to an external site. \n",
    "- Chapter 9 \"Magic Methods, Properties, and Iterators\" -Hetland, M.L. (2017). *Beginning Python: From Novice to Professional*, Third Edition. Apress.  \n",
    "- \"Understanding Class and Instance Variables in Python 3\" -> https://www.digitalocean.com/community/tutorials/understanding-class-and-instance-variables-in-python-3 (Links to an external site.)Links to an external site.\n",
    "- \"Python's Instance, Class, and Static Methods Demystified\" -> https://realpython.com/instance-class-and-static-methods-demystified/ (Links to an external site.)Links to an external site.\n",
    "- \"The definitive guide on how to use static, class or abstract methods in Python\" > https://julien.danjou.info/guide-python-static-class-abstract-methods/ (Links to an external site.)Links to an external site."
   ]
  },
  {
   "cell_type": "code",
   "execution_count": null,
   "metadata": {},
   "outputs": [],
   "source": []
  }
 ],
 "metadata": {
  "kernelspec": {
   "display_name": "Python 3",
   "language": "python",
   "name": "python3"
  },
  "language_info": {
   "codemirror_mode": {
    "name": "ipython",
    "version": 3
   },
   "file_extension": ".py",
   "mimetype": "text/x-python",
   "name": "python",
   "nbconvert_exporter": "python",
   "pygments_lexer": "ipython3",
   "version": "3.7.2"
  }
 },
 "nbformat": 4,
 "nbformat_minor": 2
}
