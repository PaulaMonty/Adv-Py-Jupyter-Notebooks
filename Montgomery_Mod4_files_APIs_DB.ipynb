{
 "cells": [
  {
   "cell_type": "markdown",
   "metadata": {},
   "source": [
    "# Module 4:  FILES, APIs, AND DATABASES\n",
    "\n",
    "## INTRODUCTION\n",
    "\n",
    "Python works well with data.  It allows for the manipulation of directories and files.  It easily interacts with APIs which make it simple to incorporate readily available data and combine it in innovative ways.  Not only does Python work with CSV (Comma_Separated Value), XML (eXtensible Markup Language), and JSON (JavaScript Object Notation) but it also works with databases to provide a wealth of possosiblities for manipulating, storing, and sharing data.  Python's ability to permanently store data and in a variety of formats makes it an advantagious language for data science."
   ]
  },
  {
   "cell_type": "markdown",
   "metadata": {},
   "source": [
    "### DIRECTORIES AND FILES\n",
    "When working with data, it is helpful to be able to permanently store data.  Python allows us to move, create and change directories (also known as folders).  This is very useful especialy since it also has the ablity to open, create, edit and delete files.  Python's <i>os</i> module provides the functions used in applications.  There are four basic operations performed on files known as CRUD, create, read, updata, and delete.\n",
    "\n",
    "(See Python Directory and File Managment: https://www.programiz.com/python-programming/directory for file and directory managment.\n",
    "See Reading and Writing files in Python tutorial https://www.datacamp.com/community/tutorials/reading-writing-files-python for more about open, read, and write to JSON and csv.)\n"
   ]
  },
  {
   "cell_type": "code",
   "execution_count": 2,
   "metadata": {},
   "outputs": [
    {
     "name": "stdout",
     "output_type": "stream",
     "text": [
      "chocolate chip\n",
      "oatmeal\n",
      "peanutbutter\n",
      "shortbread\n",
      "snickerdoodle\n"
     ]
    }
   ],
   "source": [
    "# Since our lecture discussed text files, here is an example of json.\n",
    "\n",
    "# importing json module\n",
    "import json\n",
    "\n",
    "# a list to import\n",
    "cookies=[\"chocolate chip\", \"oatmeal\", \"peanutbutter\", \"shortbread\", \"snickerdoodle\"]\n",
    "# .dump writes the JSON in file\n",
    "# use with open method becaus it closes the file properly if any exception is raised.\n",
    "# then the file is closed with f.close()\n",
    "\n",
    "with open(\"c:\\PaulaWinter2019\\INF 8410 Adv Python\\Mod 4 files, api, db\\AdvPyJSONtest.json\",\"w\") as f:\n",
    "    json.dump(cookies,f)\n",
    "f.close()\n",
    "\n",
    "# To read the file, use the method load(file)\n",
    "with open(\"c:\\PaulaWinter2019\\INF 8410 Adv Python\\Mod 4 files, api, db\\AdvPyJSONtest.json\", \"r\") as f:\n",
    "    yum=json.load(f)\n",
    "    for cookie in yum:\n",
    "        print(cookie)  \n",
    "f.close()"
   ]
  },
  {
   "cell_type": "code",
   "execution_count": 7,
   "metadata": {},
   "outputs": [
    {
     "name": "stdout",
     "output_type": "stream",
     "text": [
      "C:\\Users\\monty\n",
      "\n",
      "\n",
      "['AdvPyDBtest.py', 'AdvPyDBtestLocal.py', 'AdvPyJSONtest.json', 'AdvPyJSONtestAPOD.json', '_db.py', '__pycache__']\n"
     ]
    }
   ],
   "source": [
    "# I can use Python to find the file AdvPyJSONtest.json in my directory. \n",
    "\n",
    "# First import the os module.\n",
    "import os\n",
    "\n",
    "# The method .getcwd() will find the current directory\n",
    "curDir = os.getcwd()\n",
    "print(curDir)\n",
    "\n",
    "print('\\n')\n",
    "\n",
    "# For a list of files in the current directory use .listdir().  Since I want to see the \n",
    "# directory where I saved my file, I will pass that location.\n",
    "listOfDir = os.listdir('c:\\PaulaWinter2019\\INF 8410 Adv Python\\Mod 4 files, api, db')\n",
    "print(listOfDir)\n",
    "\n",
    "# AdvPyJSONtest.json is in the list of files.\n"
   ]
  },
  {
   "cell_type": "markdown",
   "metadata": {},
   "source": [
    "### APIs\n",
    "\n",
    "Application Program Interface (API) are a way of sharing data and code in a way that makes it more convenient to use and more secure to provide.  One website likened using an API to using electicity.  You don't need to know all the details about how it is made, just how it connects to your appliance. To use and API, you must request an api key.  The key is used to let the provider know who is using the api.  By using a variable to store your API key, it is much easier to update the API key."
   ]
  },
  {
   "cell_type": "code",
   "execution_count": 1,
   "metadata": {},
   "outputs": [
    {
     "name": "stdout",
     "output_type": "stream",
     "text": [
      "https://api.nasa.gov/planetary/apod?api_key=iakCg0OU2ILRUE3tsCOywrBWSwRblVubInLFm5ib\n",
      "copyright Dave Lane Rollover Annotation: Judy Schmidt\n",
      "date 2019-02-03\n",
      "explanation Why would the sky look like a giant fan? Airglow. The featured intermittent green glow appeared to rise from a lake through the arch of our Milky Way Galaxy, as captured during 2015 next to Bryce Canyon in Utah, USA.  The unusual pattern was created by atmospheric gravity waves, ripples of alternating air pressure that can grow with height as the air thins, in this case about 90 kilometers up.  Unlike auroras powered by collisions with energetic charged particles and seen at high latitudes, airglow is due to chemiluminescence, the production of light in a chemical reaction.  More typically seen near the horizon, airglow keeps the night sky from ever being completely dark.   Follow APOD on: Instagram, Facebook,  Reddit, or Twitter\n",
      "hdurl https://apod.nasa.gov/apod/image/1601/AirglowFan_Lane_2400.jpg\n",
      "media_type image\n",
      "service_version v1\n",
      "title An Airglow Fan from Lake to Sky\n",
      "url https://apod.nasa.gov/apod/image/1601/AirglowFan_Lane_960.jpg\n"
     ]
    },
    {
     "data": {
      "text/html": [
       "<img src=\"https://apod.nasa.gov/apod/image/1601/AirglowFan_Lane_2400.jpg\"/>"
      ],
      "text/plain": [
       "<IPython.core.display.Image object>"
      ]
     },
     "execution_count": 1,
     "metadata": {},
     "output_type": "execute_result"
    }
   ],
   "source": [
    "import requests\n",
    "import json\n",
    "\n",
    "\n",
    "# As explained in this week's lecture, to display an image in Jupyter Notebook, the following need to be imported.\n",
    "from IPython.display import Image\n",
    "from IPython.core.display import HTML \n",
    "\n",
    "# NASA has an api key for demonstration purposes called DEMO_KEY.  This allows me to keep my\n",
    "# API key from NASA private while sharing code with others. By placing the API key in a variable\n",
    "# it is easier to replace the API key as needed.\n",
    "API_key = 'DEMO_KEY'\n",
    "\n",
    "APOD_https='https://api.nasa.gov/planetary/apod?api_key='+API_key\n",
    "\n",
    "print(APOD_https)\n",
    "APOD = json.loads(requests.get(APOD_https).text)\n",
    "for key, val in APOD.items():\n",
    "    print(key,val)\n",
    "APOD_image=APOD['hdurl']\n",
    "\n",
    "Image(url= APOD_image)"
   ]
  },
  {
   "cell_type": "markdown",
   "metadata": {},
   "source": [
    "### DATABASES\n",
    "\n",
    "Python has the ability to connect to a database or create an sqlite database.  Databases allow for easier handling of large datasets.  Python connects to the database then mysql is used to query or modify the data.  For the purposes of this demonstration, I am using sqlite. "
   ]
  },
  {
   "cell_type": "code",
   "execution_count": 8,
   "metadata": {},
   "outputs": [
    {
     "name": "stdout",
     "output_type": "stream",
     "text": [
      "copyright Dave Lane Rollover Annotation: Judy Schmidt \n",
      "\n",
      "date 2019-02-03 \n",
      "\n",
      "explanation Why would the sky look like a giant fan? Airglow. The featured intermittent green glow appeared to rise from a lake through the arch of our Milky Way Galaxy, as captured during 2015 next to Bryce Canyon in Utah, USA.  The unusual pattern was created by atmospheric gravity waves, ripples of alternating air pressure that can grow with height as the air thins, in this case about 90 kilometers up.  Unlike auroras powered by collisions with energetic charged particles and seen at high latitudes, airglow is due to chemiluminescence, the production of light in a chemical reaction.  More typically seen near the horizon, airglow keeps the night sky from ever being completely dark.   Follow APOD on: Instagram, Facebook,  Reddit, or Twitter \n",
      "\n",
      "hdurl https://apod.nasa.gov/apod/image/1601/AirglowFan_Lane_2400.jpg \n",
      "\n",
      "media_type image \n",
      "\n",
      "service_version v1 \n",
      "\n",
      "title An Airglow Fan from Lake to Sky \n",
      "\n",
      "url https://apod.nasa.gov/apod/image/1601/AirglowFan_Lane_960.jpg \n",
      "\n"
     ]
    }
   ],
   "source": [
    "# I really like this image and want to keep it so I will write it to a file.\n",
    "# After writing it to a json file using w and .dump(), I commented it out so I would not write over it.\n",
    "\n",
    "#with open(\"c:\\PaulaWinter2019\\INF 8410 Adv Python\\Mod 4 files, api, db/AdvPyJSONtestAPOD.json\",\"w\") as f:\n",
    "#    json.dump(APOD,f)\n",
    "#f.close()\n",
    "\n",
    "# To read the file, use the method load(file)\n",
    "with open(\"c:\\PaulaWinter2019\\INF 8410 Adv Python\\Mod 4 files, api, db/AdvPyJSONtestAPOD.json\", \"r\") as f:\n",
    "    pic=json.load(f)\n",
    "    for key, val in pic.items():\n",
    "        print(key, val, '\\n') \n",
    "f.close()\n"
   ]
  },
  {
   "cell_type": "code",
   "execution_count": 9,
   "metadata": {},
   "outputs": [
    {
     "name": "stdout",
     "output_type": "stream",
     "text": [
      "[('An Airglow Fan from Lake to Sky',)]\n"
     ]
    },
    {
     "data": {
      "text/html": [
       "<img src=\"https://apod.nasa.gov/apod/image/1601/AirglowFan_Lane_2400.jpg\"/>"
      ],
      "text/plain": [
       "<IPython.core.display.Image object>"
      ]
     },
     "execution_count": 9,
     "metadata": {},
     "output_type": "execute_result"
    }
   ],
   "source": [
    "import sqlite3\n",
    "\n",
    "conn = sqlite3.connect('APOD.db')\n",
    "curs = conn.cursor()\n",
    "\n",
    "#curs.execute('''\n",
    "#CREATE TABLE APOD (\n",
    "\n",
    "#copyright TEXT,\n",
    "#date TEXT,\n",
    "#explanation TEXT,\n",
    "#hdurl TEXT,\n",
    "#media_type TEXT,\n",
    "#service_version TEXT,\n",
    "#title TEXT,\n",
    "#url TEXT PRIMARY KEY\n",
    "#)''')\n",
    "\n",
    "field_count = 8\n",
    "vals=[]\n",
    "#with open(\"c:\\PaulaWinter2019\\INF 8410 Adv Python\\Mod 4 files, api, db/AdvPyJSONtestAPOD.json\", \"r\") as f:\n",
    "#    pic=json.load(f)\n",
    "#    for key, val in pic.items():\n",
    "#        vals.append(val)\n",
    "#print(vals)        \n",
    "#curs.execute('INSERT INTO APOD VALUES (?,?,?,?,?,?,?,?)', vals)\n",
    "#f.close()\n",
    "#conn.commit()\n",
    "#conn.close()\n",
    "\n",
    "query = '''SELECT title FROM APOD'''\n",
    "curs.execute(query)\n",
    "result = curs.fetchall()\n",
    "print(result)\n",
    "APOD_image=APOD['hdurl']\n",
    "\n",
    "Image(url= APOD_image)\n"
   ]
  },
  {
   "cell_type": "markdown",
   "metadata": {},
   "source": [
    "## SUMMARY\n",
    "\n",
    "Python is a powerful tool for accessing readily available information on the internet.  To maximize that power, creaters of code need to be familiar with managing directories and files, how to access and save data permanently, and how to use an API.  For example, I can continue to add only the images I like from NASA's APOD to my database.  I could then easily access those images for incorporating into my projects.  Since I collected the copyright information, I will be able to recognize those I can use publicly from those I can use privately."
   ]
  },
  {
   "cell_type": "markdown",
   "metadata": {},
   "source": [
    "### REFERENCES"
   ]
  },
  {
   "cell_type": "markdown",
   "metadata": {},
   "source": [
    "Mueller, J.P.(2014). <i>Beginning programming with Python for dummies</i>.\n",
    "\n",
    "Python Directory and File Management: https://www.programiz.com/python-programming/directory (Links to an external site.)Links to an external site.\n",
    "\n",
    "Reading and Writing Files: https://www.datacamp.com/community/tutorials/reading-writing-files-python (Links to an external site.)Links to an external site.\n",
    "\n",
    "How to use Web APIs: https://www.digitalocean.com/community/tutorials/how-to-use-web-apis-in-python-3 (Links to an external site.)Links to an external site.\n",
    "\n",
    "mysql.connector:\n",
    "http://www.mysqltutorial.org/getting-started-mysql-python-connector/ (Links to an external site.)Links to an external site.\n",
    "\n",
    "for Anaconda: https://anaconda.org/anaconda/mysql-connector-python (Links to an external site.)Links to an external site.\n",
    "\n",
    "MySQL and Python: http://www.mysqltutorial.org/python-mysql-query/ (Links to an external site.)Links to an external site. "
   ]
  },
  {
   "cell_type": "code",
   "execution_count": null,
   "metadata": {},
   "outputs": [],
   "source": []
  }
 ],
 "metadata": {
  "kernelspec": {
   "display_name": "Python 3",
   "language": "python",
   "name": "python3"
  },
  "language_info": {
   "codemirror_mode": {
    "name": "ipython",
    "version": 3
   },
   "file_extension": ".py",
   "mimetype": "text/x-python",
   "name": "python",
   "nbconvert_exporter": "python",
   "pygments_lexer": "ipython3",
   "version": "3.7.1"
  }
 },
 "nbformat": 4,
 "nbformat_minor": 2
}
